{
 "cells": [
  {
   "cell_type": "code",
   "execution_count": 1,
   "metadata": {},
   "outputs": [],
   "source": [
    "%matplotlib inline\n",
    "import numpy as np\n",
    "import seaborn as sns\n",
    "sns.set()\n",
    "np.random.seed(42)"
   ]
  },
  {
   "cell_type": "code",
   "execution_count": 2,
   "metadata": {},
   "outputs": [],
   "source": [
    "male_weight_mean   = 5.13\n",
    "male_weight_std    = 0.17\n",
    "female_weight_mean = 4.96\n",
    "female_weight_std  = 0.20\n",
    "female_prob        = 0.48 # Some demographic data might come handy\n",
    "capacity_lim       = 1750\n",
    "num_simulations    = 1000\n",
    "person_count       = 10"
   ]
  },
  {
   "cell_type": "code",
   "execution_count": 3,
   "metadata": {},
   "outputs": [
    {
     "data": {
      "text/plain": [
       "array([12.48357077,  9.30867849, 13.23844269, 17.61514928,  8.82923313,\n",
       "        8.82931522, 17.89606408, 13.83717365,  7.65262807, 12.71280022])"
      ]
     },
     "execution_count": 3,
     "metadata": {},
     "output_type": "execute_result"
    }
   ],
   "source": [
    "np.random.normal(10, 5, 10)"
   ]
  },
  {
   "cell_type": "code",
   "execution_count": 4,
   "metadata": {},
   "outputs": [],
   "source": [
    "total_weights = []\n",
    "for female_count in np.random.binomial(person_count, female_prob, num_simulations):\n",
    "    total_female_weight = np.sum(np.exp(np.random.normal(female_weight_mean, female_weight_std, female_count)))\n",
    "    total_male_weight = np.sum(np.exp(np.random.normal(male_weight_mean, male_weight_std, person_count - female_count)))\n",
    "    total_weights.append(total_female_weight + total_male_weight)"
   ]
  },
  {
   "cell_type": "code",
   "execution_count": 5,
   "metadata": {},
   "outputs": [
    {
     "data": {
      "text/plain": [
       "'The probability of breaking an elevator is 5.6%'"
      ]
     },
     "execution_count": 5,
     "metadata": {},
     "output_type": "execute_result"
    }
   ],
   "source": [
    "f\"The probability of breaking an elevator is {sum(np.array(total_weights) > capacity_lim)*100/len(total_weights)}%\""
   ]
  },
  {
   "cell_type": "code",
   "execution_count": null,
   "metadata": {},
   "outputs": [],
   "source": []
  }
 ],
 "metadata": {
  "kernelspec": {
   "display_name": "Python 3",
   "language": "python",
   "name": "python3"
  },
  "language_info": {
   "codemirror_mode": {
    "name": "ipython",
    "version": 3
   },
   "file_extension": ".py",
   "mimetype": "text/x-python",
   "name": "python",
   "nbconvert_exporter": "python",
   "pygments_lexer": "ipython3",
   "version": "3.7.4"
  }
 },
 "nbformat": 4,
 "nbformat_minor": 4
}
