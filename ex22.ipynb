{
 "cells": [
  {
   "cell_type": "code",
   "execution_count": 1,
   "metadata": {},
   "outputs": [],
   "source": [
    "import seaborn as sns\n",
    "import numpy as np\n",
    "from scipy.stats import chi2"
   ]
  },
  {
   "cell_type": "code",
   "execution_count": 2,
   "metadata": {},
   "outputs": [
    {
     "data": {
      "text/plain": [
       "0.006274767591977678"
      ]
     },
     "execution_count": 2,
     "metadata": {},
     "output_type": "execute_result"
    }
   ],
   "source": [
    "observed = np.array([\n",
    "    .4777,\n",
    "    .4875,\n",
    "    .4859,\n",
    "    .4754,\n",
    "    .4874,\n",
    "    .4864,\n",
    "    .4813,\n",
    "    .4787,\n",
    "    .4895,\n",
    "    .4797,\n",
    "    .4876,\n",
    "    .4859,\n",
    "    .4857,\n",
    "    .4907,\n",
    "    .5010,\n",
    "    .4903,\n",
    "    .4860,\n",
    "    .4911,\n",
    "    .4871,\n",
    "    .4725,\n",
    "    .4822,\n",
    "    .4870,\n",
    "    .4823,\n",
    "    .4973\n",
    "])\n",
    "\n",
    "obs_std = np.std(observed)\n",
    "obs_std"
   ]
  },
  {
   "cell_type": "code",
   "execution_count": 3,
   "metadata": {},
   "outputs": [
    {
     "data": {
      "text/plain": [
       "<matplotlib.axes._subplots.AxesSubplot at 0x12baf54d0>"
      ]
     },
     "execution_count": 3,
     "metadata": {},
     "output_type": "execute_result"
    },
    {
     "data": {
      "image/png": "[encoded data removed]",
      "text/plain": [
       "<Figure size 432x288 with 1 Axes>"
      ]
     },
     "metadata": {
      "needs_background": "light"
     },
     "output_type": "display_data"
    }
   ],
   "source": [
    "sns.distplot(observed, rug=True)"
   ]
  },
  {
   "cell_type": "code",
   "execution_count": 4,
   "metadata": {},
   "outputs": [
    {
     "data": {
      "text/plain": [
       "0.008000056206566578"
      ]
     },
     "execution_count": 4,
     "metadata": {},
     "output_type": "execute_result"
    }
   ],
   "source": [
    "avg_amt = 3903\n",
    "total_p = .4857\n",
    "\n",
    "expected_sd = np.sqrt(total_p*(1-total_p)/avg_amt)\n",
    "expected_sd"
   ]
  },
  {
   "cell_type": "code",
   "execution_count": 5,
   "metadata": {},
   "outputs": [
    {
     "data": {
      "text/plain": [
       "0.0017252886145889"
      ]
     },
     "execution_count": 5,
     "metadata": {},
     "output_type": "execute_result"
    }
   ],
   "source": [
    "expected_sd - obs_std"
   ]
  },
  {
   "cell_type": "markdown",
   "metadata": {},
   "source": [
    "Check [this link](http://www.milefoot.com/math/stat/ci-variances.htm) and [this link](https://raw.githubusercontent.com/Fossj117/gelman_hill/master/Ch2/Ch2_ex.md) for the explanation of the next step."
   ]
  },
  {
   "cell_type": "code",
   "execution_count": 6,
   "metadata": {},
   "outputs": [
    {
     "data": {
      "text/plain": [
       "True"
      ]
     },
     "execution_count": 6,
     "metadata": {},
     "output_type": "execute_result"
    }
   ],
   "source": [
    "dofs = len(observed) - 1\n",
    "alpha = 0.05\n",
    "bounds = np.sqrt(dofs * np.power(obs_std, 2) / chi2.ppf([1 - alpha/2., alpha/2.], df=dofs))\n",
    "obs_std >= bounds[0] and obs_std <= bounds[1]"
   ]
  },
  {
   "cell_type": "code",
   "execution_count": null,
   "metadata": {},
   "outputs": [],
   "source": []
  }
 ],
 "metadata": {
  "kernelspec": {
   "display_name": "Python 3",
   "language": "python",
   "name": "python3"
  },
  "language_info": {
   "codemirror_mode": {
    "name": "ipython",
    "version": 3
   },
   "file_extension": ".py",
   "mimetype": "text/x-python",
   "name": "python",
   "nbconvert_exporter": "python",
   "pygments_lexer": "ipython3",
   "version": "3.7.4"
  }
 },
 "nbformat": 4,
 "nbformat_minor": 4
}
