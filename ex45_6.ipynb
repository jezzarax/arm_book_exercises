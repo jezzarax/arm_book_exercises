{
 "cells": [
  {
   "cell_type": "markdown",
   "metadata": {},
   "source": [
    "## Ex4.5"
   ]
  },
  {
   "cell_type": "markdown",
   "metadata": {},
   "source": [
    "Original fields:\n",
    "* district_id\n",
    "* raised_by_d\n",
    "* raised_by_r"
   ]
  },
  {
   "cell_type": "markdown",
   "metadata": {},
   "source": [
    "Transformation proposals:\n",
    "* Proposal 1: `raised_by_d - raised_by_r`. The variable becomes symmetric, yet doesn't fix a problem of disproportional values.\n",
    "* Proposal 2: `raised_by_d/raised_by_r`. Poor option, centered around 1, very biased, what happens if `raised_by_r` is close to zero?\n",
    "* Proposal 3: `log(raised_by_d) - log(raised_by_r)`. Solves issues of both previous proposals, the result is centered, symmetric and disproportional values become closer to each other.\n",
    "* Proposal 4: `raised_by_d/(raised_by_d + raised_by_r)`. Not centered around 0, not very linear. Still better than proposal 2 due to fixing the problem of very biased data points."
   ]
  },
  {
   "cell_type": "markdown",
   "metadata": {},
   "source": [
    "Idiosyncratic transformations:\n",
    "\n",
    "I'm not very knowledgeable on the domain topic, yet I'd expect the `raised_by_X` variables to follow either normal or log-normal distribution. In those cases I'd try to cut it into bins of size $\\sigma^2/2$ starting from the mean.\n",
    "\n",
    "Another option is to cut it into percentiles with bin size depending on the amount and sparsity of the data.\n",
    "\n",
    "If the data points appear to be clustered, then clusters would become bins."
   ]
  },
  {
   "cell_type": "markdown",
   "metadata": {},
   "source": [
    "## Ex 4.6"
   ]
  },
  {
   "cell_type": "markdown",
   "metadata": {},
   "source": [
    "$log(Q) = \\alpha + \\beta log(P)$\n",
    "\n",
    "$\\beta_{fit} = 0.3$"
   ]
  },
  {
   "cell_type": "markdown",
   "metadata": {},
   "source": [
    "It's a log-log model with $\\beta$ qdding 0.3% to Q for every 1% of increase in P."
   ]
  },
  {
   "cell_type": "code",
   "execution_count": null,
   "metadata": {},
   "outputs": [],
   "source": []
  }
 ],
 "metadata": {
  "kernelspec": {
   "display_name": "Python 3",
   "language": "python",
   "name": "python3"
  },
  "language_info": {
   "codemirror_mode": {
    "name": "ipython",
    "version": 3
   },
   "file_extension": ".py",
   "mimetype": "text/x-python",
   "name": "python",
   "nbconvert_exporter": "python",
   "pygments_lexer": "ipython3",
   "version": "3.7.4"
  }
 },
 "nbformat": 4,
 "nbformat_minor": 4
}
