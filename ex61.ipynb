{
 "cells": [
  {
   "cell_type": "code",
   "execution_count": 1,
   "metadata": {},
   "outputs": [],
   "source": [
    "%matplotlib inline\n",
    "import pandas as pd\n",
    "import numpy as np\n",
    "import statsmodels.api as sm\n",
    "import statsmodels.formula.api as smf\n",
    "import seaborn as sns\n",
    "import matplotlib.pyplot as plt\n",
    "from scipy import stats\n",
    "from IPython.display import Markdown as md\n",
    "from IPython.core.display import display, HTML\n",
    "np.random.seed(42)\n",
    "sns.set()"
   ]
  },
  {
   "cell_type": "code",
   "execution_count": 2,
   "metadata": {},
   "outputs": [
    {
     "data": {
      "text/html": [
       "<div>\n",
       "<style scoped>\n",
       "    .dataframe tbody tr th:only-of-type {\n",
       "        vertical-align: middle;\n",
       "    }\n",
       "\n",
       "    .dataframe tbody tr th {\n",
       "        vertical-align: top;\n",
       "    }\n",
       "\n",
       "    .dataframe thead th {\n",
       "        text-align: right;\n",
       "    }\n",
       "</style>\n",
       "<table border=\"1\" class=\"dataframe\">\n",
       "  <thead>\n",
       "    <tr style=\"text-align: right;\">\n",
       "      <th></th>\n",
       "      <th>sex</th>\n",
       "      <th>couples</th>\n",
       "      <th>women_alone</th>\n",
       "      <th>bs_hiv</th>\n",
       "      <th>bupacts</th>\n",
       "      <th>fupacts</th>\n",
       "    </tr>\n",
       "  </thead>\n",
       "  <tbody>\n",
       "    <tr>\n",
       "      <th>count</th>\n",
       "      <td>434</td>\n",
       "      <td>434.000000</td>\n",
       "      <td>434.000000</td>\n",
       "      <td>434</td>\n",
       "      <td>434.000000</td>\n",
       "      <td>434.000000</td>\n",
       "    </tr>\n",
       "    <tr>\n",
       "      <th>unique</th>\n",
       "      <td>2</td>\n",
       "      <td>NaN</td>\n",
       "      <td>NaN</td>\n",
       "      <td>2</td>\n",
       "      <td>NaN</td>\n",
       "      <td>NaN</td>\n",
       "    </tr>\n",
       "    <tr>\n",
       "      <th>top</th>\n",
       "      <td>man</td>\n",
       "      <td>NaN</td>\n",
       "      <td>NaN</td>\n",
       "      <td>negative</td>\n",
       "      <td>NaN</td>\n",
       "      <td>NaN</td>\n",
       "    </tr>\n",
       "    <tr>\n",
       "      <th>freq</th>\n",
       "      <td>217</td>\n",
       "      <td>NaN</td>\n",
       "      <td>NaN</td>\n",
       "      <td>337</td>\n",
       "      <td>NaN</td>\n",
       "      <td>NaN</td>\n",
       "    </tr>\n",
       "    <tr>\n",
       "      <th>mean</th>\n",
       "      <td>NaN</td>\n",
       "      <td>0.373272</td>\n",
       "      <td>0.336406</td>\n",
       "      <td>NaN</td>\n",
       "      <td>25.910139</td>\n",
       "      <td>16.489580</td>\n",
       "    </tr>\n",
       "    <tr>\n",
       "      <th>std</th>\n",
       "      <td>NaN</td>\n",
       "      <td>0.484232</td>\n",
       "      <td>0.473025</td>\n",
       "      <td>NaN</td>\n",
       "      <td>31.917963</td>\n",
       "      <td>26.825769</td>\n",
       "    </tr>\n",
       "    <tr>\n",
       "      <th>min</th>\n",
       "      <td>NaN</td>\n",
       "      <td>0.000000</td>\n",
       "      <td>0.000000</td>\n",
       "      <td>NaN</td>\n",
       "      <td>0.000000</td>\n",
       "      <td>0.000000</td>\n",
       "    </tr>\n",
       "    <tr>\n",
       "      <th>25%</th>\n",
       "      <td>NaN</td>\n",
       "      <td>0.000000</td>\n",
       "      <td>0.000000</td>\n",
       "      <td>NaN</td>\n",
       "      <td>5.000000</td>\n",
       "      <td>0.000000</td>\n",
       "    </tr>\n",
       "    <tr>\n",
       "      <th>50%</th>\n",
       "      <td>NaN</td>\n",
       "      <td>0.000000</td>\n",
       "      <td>0.000000</td>\n",
       "      <td>NaN</td>\n",
       "      <td>15.000000</td>\n",
       "      <td>5.000000</td>\n",
       "    </tr>\n",
       "    <tr>\n",
       "      <th>75%</th>\n",
       "      <td>NaN</td>\n",
       "      <td>1.000000</td>\n",
       "      <td>1.000000</td>\n",
       "      <td>NaN</td>\n",
       "      <td>36.000000</td>\n",
       "      <td>20.925600</td>\n",
       "    </tr>\n",
       "    <tr>\n",
       "      <th>max</th>\n",
       "      <td>NaN</td>\n",
       "      <td>1.000000</td>\n",
       "      <td>1.000000</td>\n",
       "      <td>NaN</td>\n",
       "      <td>300.000000</td>\n",
       "      <td>200.000000</td>\n",
       "    </tr>\n",
       "  </tbody>\n",
       "</table>\n",
       "</div>"
      ],
      "text/plain": [
       "        sex     couples  women_alone    bs_hiv     bupacts     fupacts\n",
       "count   434  434.000000   434.000000       434  434.000000  434.000000\n",
       "unique    2         NaN          NaN         2         NaN         NaN\n",
       "top     man         NaN          NaN  negative         NaN         NaN\n",
       "freq    217         NaN          NaN       337         NaN         NaN\n",
       "mean    NaN    0.373272     0.336406       NaN   25.910139   16.489580\n",
       "std     NaN    0.484232     0.473025       NaN   31.917963   26.825769\n",
       "min     NaN    0.000000     0.000000       NaN    0.000000    0.000000\n",
       "25%     NaN    0.000000     0.000000       NaN    5.000000    0.000000\n",
       "50%     NaN    0.000000     0.000000       NaN   15.000000    5.000000\n",
       "75%     NaN    1.000000     1.000000       NaN   36.000000   20.925600\n",
       "max     NaN    1.000000     1.000000       NaN  300.000000  200.000000"
      ]
     },
     "execution_count": 2,
     "metadata": {},
     "output_type": "execute_result"
    }
   ],
   "source": [
    "hiv_df = pd.read_stata(\"./ARM_Data_extra/examples/risky.behavior/risky_behaviors.dta\")\n",
    "hiv_df.describe(include='all')"
   ]
  },
  {
   "cell_type": "code",
   "execution_count": 3,
   "metadata": {},
   "outputs": [
    {
     "name": "stdout",
     "output_type": "stream",
     "text": [
      "Optimization terminated successfully.\n",
      "         Current function value: 16.423400\n",
      "         Iterations 5\n"
     ]
    },
    {
     "data": {
      "text/html": [
       "<table class=\"simpletable\">\n",
       "<caption>Poisson Regression Results</caption>\n",
       "<tr>\n",
       "  <th>Dep. Variable:</th>        <td>fupacts</td>     <th>  No. Observations:  </th>  <td>   434</td>  \n",
       "</tr>\n",
       "<tr>\n",
       "  <th>Model:</th>                <td>Poisson</td>     <th>  Df Residuals:      </th>  <td>   431</td>  \n",
       "</tr>\n",
       "<tr>\n",
       "  <th>Method:</th>                 <td>MLE</td>       <th>  Df Model:          </th>  <td>     2</td>  \n",
       "</tr>\n",
       "<tr>\n",
       "  <th>Date:</th>            <td>Wed, 25 Mar 2020</td> <th>  Pseudo R-squ.:     </th>  <td>0.02566</td> \n",
       "</tr>\n",
       "<tr>\n",
       "  <th>Time:</th>                <td>22:53:20</td>     <th>  Log-Likelihood:    </th> <td> -7127.8</td> \n",
       "</tr>\n",
       "<tr>\n",
       "  <th>converged:</th>             <td>True</td>       <th>  LL-Null:           </th> <td> -7315.5</td> \n",
       "</tr>\n",
       "<tr>\n",
       "  <th>Covariance Type:</th>     <td>nonrobust</td>    <th>  LLR p-value:       </th> <td>2.986e-82</td>\n",
       "</tr>\n",
       "</table>\n",
       "<table class=\"simpletable\">\n",
       "<tr>\n",
       "       <td></td>          <th>coef</th>     <th>std err</th>      <th>z</th>      <th>P>|z|</th>  <th>[0.025</th>    <th>0.975]</th>  \n",
       "</tr>\n",
       "<tr>\n",
       "  <th>Intercept</th>   <td>    3.0902</td> <td>    0.019</td> <td>  162.635</td> <td> 0.000</td> <td>    3.053</td> <td>    3.127</td>\n",
       "</tr>\n",
       "<tr>\n",
       "  <th>couples</th>     <td>   -0.3226</td> <td>    0.027</td> <td>  -11.791</td> <td> 0.000</td> <td>   -0.376</td> <td>   -0.269</td>\n",
       "</tr>\n",
       "<tr>\n",
       "  <th>women_alone</th> <td>   -0.5741</td> <td>    0.030</td> <td>  -18.987</td> <td> 0.000</td> <td>   -0.633</td> <td>   -0.515</td>\n",
       "</tr>\n",
       "</table>"
      ],
      "text/plain": [
       "<class 'statsmodels.iolib.summary.Summary'>\n",
       "\"\"\"\n",
       "                          Poisson Regression Results                          \n",
       "==============================================================================\n",
       "Dep. Variable:                fupacts   No. Observations:                  434\n",
       "Model:                        Poisson   Df Residuals:                      431\n",
       "Method:                           MLE   Df Model:                            2\n",
       "Date:                Wed, 25 Mar 2020   Pseudo R-squ.:                 0.02566\n",
       "Time:                        22:53:20   Log-Likelihood:                -7127.8\n",
       "converged:                       True   LL-Null:                       -7315.5\n",
       "Covariance Type:            nonrobust   LLR p-value:                 2.986e-82\n",
       "===============================================================================\n",
       "                  coef    std err          z      P>|z|      [0.025      0.975]\n",
       "-------------------------------------------------------------------------------\n",
       "Intercept       3.0902      0.019    162.635      0.000       3.053       3.127\n",
       "couples        -0.3226      0.027    -11.791      0.000      -0.376      -0.269\n",
       "women_alone    -0.5741      0.030    -18.987      0.000      -0.633      -0.515\n",
       "===============================================================================\n",
       "\"\"\""
      ]
     },
     "execution_count": 3,
     "metadata": {},
     "output_type": "execute_result"
    }
   ],
   "source": [
    "mdl_a = smf.poisson(data=hiv_df, formula=\"fupacts ~ couples + women_alone\").fit()\n",
    "mdl_a.summary()"
   ]
  },
  {
   "cell_type": "code",
   "execution_count": 4,
   "metadata": {},
   "outputs": [
    {
     "data": {
      "text/plain": [
       "'Overdispersion ratio is 44.04779229512923, p-value of it is 1.0'"
      ]
     },
     "execution_count": 4,
     "metadata": {},
     "output_type": "execute_result"
    }
   ],
   "source": [
    "yhat = mdl_a.predict(hiv_df)\n",
    "resid = hiv_df.fupacts - yhat # mdl_a.resid could be used here as well, going more straightforward for transparency\n",
    "std_residuals = resid/np.sqrt(yhat)\n",
    "sr_sq_sum = np.sum(std_residuals*std_residuals)\n",
    "mdl_a_overdispersion_ratio = sr_sq_sum/(len(hiv_df) - 2) # 2 for the number of predictors\n",
    "mdl_a_overdispersion_p_value = stats.chi2.cdf(sr_sq_sum, df=mdl_a.df_resid)\n",
    "f\"Overdispersion ratio is {mdl_a_overdispersion_ratio}, p-value of it is {mdl_a_overdispersion_p_value}\""
   ]
  },
  {
   "cell_type": "code",
   "execution_count": 5,
   "metadata": {},
   "outputs": [
    {
     "data": {
      "image/png": "[encoded data removed]",
      "text/plain": [
       "<Figure size 1152x864 with 3 Axes>"
      ]
     },
     "metadata": {},
     "output_type": "display_data"
    }
   ],
   "source": [
    "fig = plt.figure()\n",
    "gs = fig.add_gridspec(2,2)\n",
    "ax1 = fig.add_subplot(gs[0, 0])\n",
    "ax2 = fig.add_subplot(gs[1, 0])\n",
    "ax3 = fig.add_subplot(gs[:, 1])\n",
    "sns.scatterplot(x=mdl_a.predict(hiv_df), y=resid, ax=ax1)\n",
    "sns.scatterplot(x=mdl_a.predict(hiv_df), y=std_residuals, ax=ax2)\n",
    "sns.distplot(std_residuals, kde=True, axlabel=\"Standardized residuals\")\n",
    "ax1.set_xlabel(\"Prediction\")\n",
    "ax2.set_xlabel(\"Prediction\")\n",
    "ax1.set_ylabel(\"Residuals\")\n",
    "ax2.set_ylabel(\"Standardized resudials\")\n",
    "fig.set_size_inches(16, 12)"
   ]
  },
  {
   "cell_type": "markdown",
   "metadata": {},
   "source": [
    "Bad fit, the overdispersion factor is very high."
   ]
  },
  {
   "cell_type": "code",
   "execution_count": 6,
   "metadata": {},
   "outputs": [
    {
     "name": "stdout",
     "output_type": "stream",
     "text": [
      "Optimization terminated successfully.\n",
      "         Current function value: 13.282019\n",
      "         Iterations 9\n"
     ]
    },
    {
     "data": {
      "text/html": [
       "<table class=\"simpletable\">\n",
       "<caption>Poisson Regression Results</caption>\n",
       "<tr>\n",
       "  <th>Dep. Variable:</th>        <td>fupacts</td>     <th>  No. Observations:  </th>  <td>   434</td> \n",
       "</tr>\n",
       "<tr>\n",
       "  <th>Model:</th>                <td>Poisson</td>     <th>  Df Residuals:      </th>  <td>   428</td> \n",
       "</tr>\n",
       "<tr>\n",
       "  <th>Method:</th>                 <td>MLE</td>       <th>  Df Model:          </th>  <td>     5</td> \n",
       "</tr>\n",
       "<tr>\n",
       "  <th>Date:</th>            <td>Wed, 25 Mar 2020</td> <th>  Pseudo R-squ.:     </th>  <td>0.2120</td> \n",
       "</tr>\n",
       "<tr>\n",
       "  <th>Time:</th>                <td>22:53:21</td>     <th>  Log-Likelihood:    </th> <td> -5764.4</td>\n",
       "</tr>\n",
       "<tr>\n",
       "  <th>converged:</th>             <td>True</td>       <th>  LL-Null:           </th> <td> -7315.5</td>\n",
       "</tr>\n",
       "<tr>\n",
       "  <th>Covariance Type:</th>     <td>nonrobust</td>    <th>  LLR p-value:       </th>  <td> 0.000</td> \n",
       "</tr>\n",
       "</table>\n",
       "<table class=\"simpletable\">\n",
       "<tr>\n",
       "           <td></td>             <th>coef</th>     <th>std err</th>      <th>z</th>      <th>P>|z|</th>  <th>[0.025</th>    <th>0.975]</th>  \n",
       "</tr>\n",
       "<tr>\n",
       "  <th>Intercept</th>          <td>    2.8961</td> <td>    0.023</td> <td>  124.821</td> <td> 0.000</td> <td>    2.851</td> <td>    2.942</td>\n",
       "</tr>\n",
       "<tr>\n",
       "  <th>sex[T.man]</th>         <td>   -0.1085</td> <td>    0.024</td> <td>   -4.572</td> <td> 0.000</td> <td>   -0.155</td> <td>   -0.062</td>\n",
       "</tr>\n",
       "<tr>\n",
       "  <th>bs_hiv[T.positive]</th> <td>   -0.4376</td> <td>    0.035</td> <td>  -12.371</td> <td> 0.000</td> <td>   -0.507</td> <td>   -0.368</td>\n",
       "</tr>\n",
       "<tr>\n",
       "  <th>couples</th>            <td>   -0.4104</td> <td>    0.028</td> <td>  -14.541</td> <td> 0.000</td> <td>   -0.466</td> <td>   -0.355</td>\n",
       "</tr>\n",
       "<tr>\n",
       "  <th>women_alone</th>        <td>   -0.6643</td> <td>    0.031</td> <td>  -21.496</td> <td> 0.000</td> <td>   -0.725</td> <td>   -0.604</td>\n",
       "</tr>\n",
       "<tr>\n",
       "  <th>bupacts</th>            <td>    0.0108</td> <td>    0.000</td> <td>   62.043</td> <td> 0.000</td> <td>    0.010</td> <td>    0.011</td>\n",
       "</tr>\n",
       "</table>"
      ],
      "text/plain": [
       "<class 'statsmodels.iolib.summary.Summary'>\n",
       "\"\"\"\n",
       "                          Poisson Regression Results                          \n",
       "==============================================================================\n",
       "Dep. Variable:                fupacts   No. Observations:                  434\n",
       "Model:                        Poisson   Df Residuals:                      428\n",
       "Method:                           MLE   Df Model:                            5\n",
       "Date:                Wed, 25 Mar 2020   Pseudo R-squ.:                  0.2120\n",
       "Time:                        22:53:21   Log-Likelihood:                -5764.4\n",
       "converged:                       True   LL-Null:                       -7315.5\n",
       "Covariance Type:            nonrobust   LLR p-value:                     0.000\n",
       "======================================================================================\n",
       "                         coef    std err          z      P>|z|      [0.025      0.975]\n",
       "--------------------------------------------------------------------------------------\n",
       "Intercept              2.8961      0.023    124.821      0.000       2.851       2.942\n",
       "sex[T.man]            -0.1085      0.024     -4.572      0.000      -0.155      -0.062\n",
       "bs_hiv[T.positive]    -0.4376      0.035    -12.371      0.000      -0.507      -0.368\n",
       "couples               -0.4104      0.028    -14.541      0.000      -0.466      -0.355\n",
       "women_alone           -0.6643      0.031    -21.496      0.000      -0.725      -0.604\n",
       "bupacts                0.0108      0.000     62.043      0.000       0.010       0.011\n",
       "======================================================================================\n",
       "\"\"\""
      ]
     },
     "execution_count": 6,
     "metadata": {},
     "output_type": "execute_result"
    }
   ],
   "source": [
    "mdl_b = smf.poisson(data=hiv_df, formula=\"fupacts ~ couples + women_alone + sex + bs_hiv + bupacts\").fit()\n",
    "mdl_b.summary()"
   ]
  },
  {
   "cell_type": "code",
   "execution_count": 7,
   "metadata": {},
   "outputs": [
    {
     "data": {
      "text/plain": [
       "'Overdispersion ratio is 29.942248987890537, p-value of it is 1.0'"
      ]
     },
     "execution_count": 7,
     "metadata": {},
     "output_type": "execute_result"
    }
   ],
   "source": [
    "yhat = mdl_b.predict(hiv_df)\n",
    "resid = hiv_df.fupacts - yhat # mdl_a.resid could be used here as well, going more straightforward for transparency\n",
    "std_residuals = resid/np.sqrt(yhat)\n",
    "sr_sq_sum = np.sum(std_residuals*std_residuals)\n",
    "mdl_b_overdispersion_ratio = sr_sq_sum/(len(hiv_df) - 5) # 5 for the number of predictors\n",
    "mdl_b_overdispersion_p_value = stats.chi2.cdf(sr_sq_sum, df=mdl_b.df_resid)\n",
    "f\"Overdispersion ratio is {mdl_b_overdispersion_ratio}, p-value of it is {mdl_b_overdispersion_p_value}\""
   ]
  },
  {
   "cell_type": "markdown",
   "metadata": {},
   "source": [
    "Better fit, the overdispersion went down a bit, yet is still too high."
   ]
  },
  {
   "cell_type": "markdown",
   "metadata": {},
   "source": [
    "Now we have to dive into depths of github as Quasi Poisson model is currently not implemented in statsmodel. Yet there's a [py-glm](https://github.com/madrury/py-glm) package which should work"
   ]
  },
  {
   "cell_type": "code",
   "execution_count": 8,
   "metadata": {},
   "outputs": [],
   "source": [
    "from glm.glm import GLM\n",
    "from glm.families import QuasiPoisson, Poisson"
   ]
  },
  {
   "cell_type": "code",
   "execution_count": 9,
   "metadata": {},
   "outputs": [
    {
     "name": "stdout",
     "output_type": "stream",
     "text": [
      "QuasiPoisson GLM Model Summary.\n",
      "===============================================\n",
      "Name         Parameter Estimate  Standard Error\n",
      "-----------------------------------------------\n",
      "Intercept                  2.90            0.11\n",
      "sex[T.man]                -0.11            0.12\n",
      "bs_hiv[T.positive]        -0.44            0.17\n",
      "couples                   -0.41            0.14\n",
      "women_alone               -0.66            0.15\n",
      "bupacts                    0.01            0.00\n"
     ]
    }
   ],
   "source": [
    "mdl_c = GLM(family=QuasiPoisson())\n",
    "mdl_c.fit(X=hiv_df, formula=\"fupacts ~ couples + women_alone + sex + bs_hiv + bupacts\")\n",
    "mdl_c.summary()"
   ]
  },
  {
   "cell_type": "code",
   "execution_count": 10,
   "metadata": {},
   "outputs": [
    {
     "data": {
      "text/plain": [
       "array(10204.40440327)"
      ]
     },
     "execution_count": 10,
     "metadata": {},
     "output_type": "execute_result"
    }
   ],
   "source": [
    "mdl_c.deviance_"
   ]
  },
  {
   "cell_type": "code",
   "execution_count": 11,
   "metadata": {},
   "outputs": [
    {
     "data": {
      "text/plain": [
       "array(23.84206636)"
      ]
     },
     "execution_count": 11,
     "metadata": {},
     "output_type": "execute_result"
    }
   ],
   "source": [
    "mdl_c.dispersion_"
   ]
  },
  {
   "cell_type": "code",
   "execution_count": null,
   "metadata": {},
   "outputs": [],
   "source": []
  }
 ],
 "metadata": {
  "kernelspec": {
   "display_name": "Python 3",
   "language": "python",
   "name": "python3"
  },
  "language_info": {
   "codemirror_mode": {
    "name": "ipython",
    "version": 3
   },
   "file_extension": ".py",
   "mimetype": "text/x-python",
   "name": "python",
   "nbconvert_exporter": "python",
   "pygments_lexer": "ipython3",
   "version": "3.7.4"
  }
 },
 "nbformat": 4,
 "nbformat_minor": 4
}
