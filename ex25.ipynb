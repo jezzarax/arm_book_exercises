{
 "cells": [
  {
   "cell_type": "markdown",
   "metadata": {},
   "source": [
    "\\begin{align}\n",
    "c & = 0.3 \\\\\n",
    "\\mu_{(x+y)/2} & = \\frac{\\mu_x + \\mu_y}{2} \\\\\n",
    "\\sigma_{(x+y)/2} & = \\sqrt{0.5^2*\\sigma_x^2 + 0.5^2*\\sigma_x^2 + 2*0.5^2*c*\\sigma_x*\\sigma_y} \\\\\n",
    "& = 0.5 * \\sqrt{\\sigma_x^2 + \\sigma_x^2 + 2*c*\\sigma_x*\\sigma_y}\n",
    "\\end{align}"
   ]
  }
 ],
 "metadata": {
  "kernelspec": {
   "display_name": "Python 3",
   "language": "python",
   "name": "python3"
  },
  "language_info": {
   "codemirror_mode": {
    "name": "ipython",
    "version": 3
   },
   "file_extension": ".py",
   "mimetype": "text/x-python",
   "name": "python",
   "nbconvert_exporter": "python",
   "pygments_lexer": "ipython3",
   "version": "3.7.4"
  }
 },
 "nbformat": 4,
 "nbformat_minor": 4
}
